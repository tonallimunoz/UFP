{
 "cells": [
  {
   "cell_type": "markdown",
   "metadata": {},
   "source": [
    "## Paquetes"
   ]
  },
  {
   "cell_type": "code",
   "execution_count": 1,
   "metadata": {},
   "outputs": [],
   "source": [
    "%matplotlib inline\n",
    "import pandas as pd\n",
    "from pandas.plotting import register_matplotlib_converters\n",
    "register_matplotlib_converters()\n",
    "import numpy as np\n",
    "import matplotlib.pyplot as plt\n",
    "from matplotlib.colors import LinearSegmentedColormap\n",
    "from dateutil import parser\n",
    "from matplotlib.pyplot import figure\n",
    "import numpy.ma as ma\n",
    "plt.rcParams.update({'font.size': 11})\n",
    "import scipy\n",
    "from scipy import stats"
   ]
  },
  {
   "cell_type": "markdown",
   "metadata": {},
   "source": [
    "## Datos"
   ]
  },
  {
   "cell_type": "code",
   "execution_count": 3,
   "metadata": {},
   "outputs": [],
   "source": [
    "#Canales\n",
    "datos = pd.read_csv(\"channels.txt\", delimiter=\"\\t\")\n",
    "datos.index = [parser.parse(a) for a in datos['start']] #Cambiar el índice a fecha\n",
    "del datos['start']\n",
    "datost = datos.T #Traspuesta\n",
    "\n",
    "#Nucleación\n",
    "nucleacion = pd.read_csv(\"channelsnucleation.txt\", delimiter=\"\\t\")\n",
    "nucleacion.index = [parser.parse(b) for b in nucleacion['start']]\n",
    "del nucleacion['start']\n",
    "\n",
    "#Aitken\n",
    "aitken = pd.read_csv(\"channelsaitken.txt\", delimiter=\"\\t\")\n",
    "aitken.index = [parser.parse(b) for b in aitken['start']]     \n",
    "del aitken['start']\n",
    "\n",
    "#Masa Aitken\n",
    "masaaitken = pd.read_csv(\"masaaitken.txt\", delimiter=\"\\t\")\n",
    "masaaitken.index = [parser.parse(b) for b in masaaitken['start']]     \n",
    "del masaaitken['start']\n",
    "\n",
    "\n",
    "#Sumafina(Nucleación+Aitken)\n",
    "sumafina = pd.read_csv(\"channelsumafina.txt\", delimiter=\"\\t\")\n",
    "sumafina.index = [parser.parse(b) for b in sumafina['start']]     \n",
    "del sumafina['start']\n",
    "#-----------------------------------------------------------------------------\n",
    "#Abril 2017\n",
    "\n",
    "#Meteorología   \n",
    "apr = pd.read_csv(\"meteoabril.txt\", delimiter = \"\\t\")\n",
    "apr.index = pd.date_range('4/1/2017', periods = 43200, freq ='Min')\n",
    "del apr['Fecha']\n",
    "\n",
    "windapr = apr['m/s'].resample('10Min').mean()\n",
    "rhapr = apr['%'].resample('10Min').mean()\n",
    "tapr = apr['C'].resample('10Min').mean()\n",
    "\n",
    "#Aire\n",
    "aireapr = pd.read_csv(\"aireabril.txt\", delimiter = \"\\t\")\n",
    "aireapr.index = pd.date_range('4/1/2017', periods = 43200, freq ='Min')\n",
    "\n",
    "ozonoapr = aireapr['O3'].resample('10Min').mean()\n",
    "NOapr = aireapr['NO'].resample('10Min').mean()\n",
    "NO2apr = aireapr['NO2'].resample('10Min').mean()\n",
    "NOXapr = aireapr['NOX'].resample('10Min').mean()\n",
    "SO2apr = aireapr['SO2'].resample('10Min').mean()\n",
    "PM25apr = aireapr['PM2.5'].resample('10Min').mean()\n",
    "PM10apr = aireapr['PM10'].resample('10Min').mean()\n",
    "#----------------------------------------------------------------------------\n",
    "#Mayo 2017\n",
    "\n",
    "#Meteorología\n",
    "may = pd.read_csv(\"meteomayo.txt\", delimiter = \"\\t\")\n",
    "may.index = pd.date_range('5/1/2017', periods = 43200, freq ='Min')\n",
    "del may['Fecha']\n",
    "\n",
    "windmay = may['m/s'].resample('10Min').mean()\n",
    "rhmay = may['%'].resample('10Min').mean()\n",
    "tmay = may['C'].resample('10Min').mean()\n",
    "\n",
    "#Aire\n",
    "airemay = pd.read_csv(\"airemayo.txt\", delimiter = \"\\t\")\n",
    "airemay.index = pd.date_range('5/1/2017', periods = 44640, freq ='Min')\n",
    "\n",
    "ozonomay = airemay['O3'].resample('10Min').mean()\n",
    "NOmay = airemay['NO'].resample('10Min').mean()\n",
    "NO2may = airemay['NO2'].resample('10Min').mean()\n",
    "NOXmay = airemay['NOX'].resample('10Min').mean()\n",
    "SO2may = airemay['SO2'].resample('10Min').mean()\n",
    "PM25may = airemay['PM2.5'].resample('10Min').mean()\n",
    "PM10may = airemay['PM10'].resample('10Min').mean()\n",
    "#----------------------------------------------------------------------------\n",
    "#Junio 2017\n",
    "\n",
    "#Meteorología\n",
    "jun = pd.read_csv(\"meteojunio.txt\", delimiter = \"\\t\")\n",
    "jun.index = pd.date_range('6/1/2017', periods = 43200, freq ='Min')\n",
    "del jun['Fecha']\n",
    "\n",
    "windjun = jun['m/s'].resample('10Min').mean()\n",
    "rhjun = jun['%'].resample('10Min').mean()\n",
    "tjun = jun['C'].resample('10Min').mean()\n",
    "\n",
    "#Aire\n",
    "airejun = pd.read_csv(\"airejunio.txt\", delimiter = \"\\t\")\n",
    "airejun.index = pd.date_range('6/1/2017', periods = 43200, freq ='Min')\n",
    "\n",
    "ozonojun = airejun['O3'].resample('10Min').mean()\n",
    "NOjun = airejun['NO'].resample('10Min').mean()\n",
    "NO2jun = airejun['NO2'].resample('10Min').mean()\n",
    "NOXjun = airejun['NOX'].resample('10Min').mean()\n",
    "SO2jun = airejun['SO2'].resample('10Min').mean()\n",
    "PM25jun = airejun['PM2.5'].resample('10Min').mean()\n",
    "PM10jun = airejun['PM10'].resample('10Min').mean()\n",
    "#----------------------------------------------------------------------------\n",
    "#Julio 2017\n",
    "\n",
    "#Meteorología\n",
    "jul = pd.read_csv(\"meteojulio.txt\", delimiter = \"\\t\")\n",
    "jul.index = pd.date_range('7/1/2017', periods = 43200, freq ='Min')\n",
    "del jul['Fecha']\n",
    "\n",
    "windjul = jul['m/s'].resample('10Min').mean()\n",
    "rhjul = jul['%'].resample('10Min').mean()\n",
    "tjul = jul['C'].resample('10Min').mean()\n",
    "\n",
    "#Aire\n",
    "airejul = pd.read_csv(\"airejulio.txt\", delimiter = \"\\t\")\n",
    "airejul.index = pd.date_range('7/1/2017', periods = 44640, freq ='Min')\n",
    "\n",
    "ozonojul = airejul['O3'].resample('10Min').mean()\n",
    "NOjul = airejul['NO'].resample('10Min').mean()\n",
    "NO2jul = airejul['NO2'].resample('10Min').mean()\n",
    "NOXjul = airejul['NOX'].resample('10Min').mean()\n",
    "SO2jul = airejul['SO2'].resample('10Min').mean()\n",
    "PM25jul = airejul['PM2.5'].resample('10Min').mean()\n",
    "PM10jul = airejul['PM10'].resample('10Min').mean()\n",
    "#----------------------------------------------------------------------------\n",
    "#Agosto 2017\n",
    "\n",
    "#Meteorología\n",
    "ago = pd.read_csv(\"meteoagosto.txt\", delimiter = \"\\t\")\n",
    "ago.index = pd.date_range('8/1/2017', periods = 44640, freq ='Min')\n",
    "del ago['Fecha']\n",
    "\n",
    "windago = ago['m/s'].resample('10Min').mean()\n",
    "rhago = ago['%'].resample('10Min').mean()\n",
    "tago = ago['C'].resample('10Min').mean()\n",
    "\n",
    "#Aire\n",
    "aireago = pd.read_csv(\"aireagosto.txt\", delimiter = \"\\t\")\n",
    "aireago.index = pd.date_range('8/1/2017', periods = 44640, freq ='Min')\n",
    "\n",
    "ozonoago = aireago['O3'].resample('10Min').mean()\n",
    "NOago = aireago['NO'].resample('10Min').mean()\n",
    "NO2ago = aireago['NO2'].resample('10Min').mean()\n",
    "NOXago = aireago['NOX'].resample('10Min').mean()\n",
    "SO2ago = aireago['SO2'].resample('10Min').mean()\n",
    "PM25ago = aireago['PM2.5'].resample('10Min').mean()\n",
    "PM10ago = aireago['PM10'].resample('10Min').mean()\n",
    "#----------------------------------------------------------------------------\n",
    "#Septiembre 2017\n",
    "\n",
    "#Meteorología\n",
    "sep = pd.read_csv(\"meteoseptiembre.txt\", delimiter = \"\\t\")\n",
    "sep.index = pd.date_range('9/1/2017', periods = 43200, freq ='Min')\n",
    "del sep['Fecha']\n",
    "\n",
    "windsep = sep['m/s'].resample('10Min').mean()\n",
    "rhsep = sep['%'].resample('10Min').mean()\n",
    "tsep = sep['C'].resample('10Min').mean()\n",
    "\n",
    "#Aire\n",
    "airesep = pd.read_csv(\"aireseptiembre.txt\", delimiter = \"\\t\")\n",
    "airesep.index = pd.date_range('9/1/2017', periods = 43200, freq ='Min')\n",
    "\n",
    "ozonosep = airesep['O3'].resample('10Min').mean()\n",
    "NOsep = airesep['NO'].resample('10Min').mean()\n",
    "NO2sep = airesep['NO2'].resample('10Min').mean()\n",
    "NOXsep = airesep['NOX'].resample('10Min').mean()\n",
    "SO2sep = airesep['SO2'].resample('10Min').mean()\n",
    "PM25sep = airesep['PM2.5'].resample('10Min').mean()\n",
    "PM10sep = airesep['PM10'].resample('10Min').mean()\n",
    "#----------------------------------------------------------------------------\n",
    "#Octubre 2017\n",
    "\n",
    "#Meteorología\n",
    "oct = pd.read_csv(\"meteoctubre.txt\", delimiter = \"\\t\")\n",
    "oct.index = pd.date_range('10/1/2017', periods = 44640, freq ='Min')\n",
    "del oct['Fecha']\n",
    "\n",
    "windoct = oct['m/s'].resample('10Min').mean()\n",
    "rhoct = oct['%'].resample('10Min').mean()\n",
    "toct = oct['C'].resample('10Min').mean()\n",
    "\n",
    "#Aire\n",
    "aireoct = pd.read_csv(\"aireoctubre.txt\", delimiter = \"\\t\")\n",
    "aireoct.index = pd.date_range('10/1/2017', periods = 44640, freq ='Min')\n",
    "\n",
    "ozonooct = aireoct['O3'].resample('10Min').mean()\n",
    "NOoct = aireoct['NO'].resample('10Min').mean()\n",
    "NO2oct = aireoct['NO2'].resample('10Min').mean()\n",
    "NOXoct = aireoct['NOX'].resample('10Min').mean()\n",
    "SO2oct = aireoct['SO2'].resample('10Min').mean()\n",
    "PM25oct = aireoct['PM2.5'].resample('10Min').mean()\n",
    "PM10oct = aireoct['PM10'].resample('10Min').mean()\n",
    "#----------------------------------------------------------------------------\n",
    "#Mayo 2018\n",
    "\n",
    "#Meteorología\n",
    "may18 = pd.read_csv(\"meteomayo2018.txt\", delimiter = \"\\t\")\n",
    "may18.index = pd.date_range('5/1/2018', periods = 44640, freq ='Min')\n",
    "del may18['Fecha']\n",
    "\n",
    "windmay18 = may18['m/s'].resample('10Min').mean()\n",
    "rhmay18 = may18['%'].resample('10Min').mean()\n",
    "tmay18 = may18['C'].resample('10Min').mean()\n",
    "\n",
    "#Aire\n",
    "airemay18 = pd.read_csv(\"airemayo2018.txt\", delimiter = \"\\t\")\n",
    "airemay18.index = pd.date_range('5/1/2018', periods = 44640, freq ='Min')\n",
    "\n",
    "ozonomay18 = airemay18['O3'].resample('10Min').mean()\n",
    "NOmay18 = airemay18['NO'].resample('10Min').mean()\n",
    "NO2may18 = airemay18['NO2'].resample('10Min').mean()\n",
    "NOXmay18 = airemay18['NOX'].resample('10Min').mean()\n",
    "SO2may18 = airemay18['SO2'].resample('10Min').mean()\n",
    "PM25may18 = airemay18['PM2.5'].resample('10Min').mean()\n",
    "PM10may18 = airemay18['PM10'].resample('10Min').mean()\n",
    "#----------------------------------------------------------------------------\n",
    "#Junio 2018\n",
    "\n",
    "#Meteorología\n",
    "jun18 = pd.read_csv(\"meteojunio2018.txt\", delimiter = \"\\t\")\n",
    "jun18.index = pd.date_range('6/1/2018', periods = 43200, freq ='Min')\n",
    "del jun18['Fecha']\n",
    "\n",
    "windjun18 = jun18['m/s'].resample('10Min').mean()\n",
    "rhjun18 = jun18['%'].resample('10Min').mean()\n",
    "tjun18 = jun18['C'].resample('10Min').mean()\n",
    "\n",
    "#Aire\n",
    "airejun18 = pd.read_csv(\"airejunio2018.txt\", delimiter = \"\\t\")\n",
    "airejun18.index = pd.date_range('6/1/2018', periods = 43200, freq ='Min')\n",
    "\n",
    "ozonojun18 = airejun18['O3'].resample('10Min').mean()\n",
    "NOjun18 = airejun18['NO'].resample('10Min').mean()\n",
    "NO2jun18 = airejun18['NO2'].resample('10Min').mean()\n",
    "NOXjun18 = airejun18['NOX'].resample('10Min').mean()\n",
    "SO2jun18 = airejun18['SO2'].resample('10Min').mean()\n",
    "PM25jun18 = airejun18['PM2.5'].resample('10Min').mean()\n",
    "PM10jun18 = airejun18['PM10'].resample('10Min').mean()\n",
    "#----------------------------------------------------------------------------\n",
    "#Julio 2018\n",
    "\n",
    "jul18 = pd.read_csv(\"meteojulio2018.txt\", delimiter = \"\\t\")\n",
    "jul18.index = pd.date_range('7/1/2018', periods = 44640, freq ='Min')\n",
    "del jul18['Fecha']\n",
    "\n",
    "windjul18 = jul18['m/s'].resample('10Min').mean()\n",
    "rhjul18 = jul18['%'].resample('10Min').mean()\n",
    "tjul18 = jul18['C'].resample('10Min').mean()\n",
    "\n",
    "#Aire\n",
    "airejul18 = pd.read_csv(\"airejulio2018.txt\", delimiter = \"\\t\")\n",
    "airejul18.index = pd.date_range('7/1/2018', periods = 44640, freq ='Min')\n",
    "\n",
    "ozonojul18 = airejul18['O3'].resample('10Min').mean()\n",
    "NOjul18 = airejul18['NO'].resample('10Min').mean()\n",
    "NO2jul18 = airejul18['NO2'].resample('10Min').mean()\n",
    "NOXjul18 = airejul18['NOX'].resample('10Min').mean()\n",
    "SO2jul18 = airejul18['SO2'].resample('10Min').mean()\n",
    "PM25jul18 = airejul18['PM2.5'].resample('10Min').mean()\n",
    "PM10jul18 = airejul18['PM10'].resample('10Min').mean()"
   ]
  },
  {
   "cell_type": "code",
   "execution_count": 6,
   "metadata": {},
   "outputs": [],
   "source": [
    "#Suma de variables en todo el periodo de estudio\n",
    "\n",
    "#Viento\n",
    "frames = [windapr, windmay, windjun, windjul, windago, windsep, windoct, windmay18, windjun18, windjul18]\n",
    "windtotal = pd.concat(frames)\n",
    "x = windtotal[864:38444].to_frame()\n",
    "x1 = x['m/s']\n",
    "\n",
    "#Humedad relativa\n",
    "frames2 = [rhapr, rhmay, rhjun, rhjul, rhago, rhsep, rhoct, rhmay18, rhjun18, rhjul18]\n",
    "rhtotal = pd.concat(frames2)\n",
    "y = rhtotal[864:38444].to_frame()\n",
    "y1 = y['%']\n",
    "\n",
    "#Temperatura\n",
    "frames3 = [tapr, tmay, tjun, tjul, tago, tsep, toct, tmay18, tjun18, tjul18]\n",
    "ttotal = pd.concat(frames3);\n",
    "z = ttotal[864:38444].to_frame()\n",
    "z1 = z['C']\n",
    "\n",
    "#Ozono\n",
    "frames4 = [ozonoapr, ozonomay, ozonojun, ozonojul, ozonoago, ozonosep, ozonooct, ozonomay18, ozonojun18, ozonojul18]\n",
    "ozonototal = pd.concat(frames4);\n",
    "w = ozonototal[864:38444].to_frame()\n",
    "w1 = w['O3']\n",
    "\n",
    "#NO\n",
    "frames5 = [NOapr, NOmay, NOjun, NOjul, NOago, NOsep, NOoct, NOmay18, NOjun18, NOjul18]\n",
    "NOtotal = pd.concat(frames5);\n",
    "f = NOtotal[864:38444].to_frame()\n",
    "f1 = f['NO']\n",
    "\n",
    "#NO2\n",
    "frames6 = [NO2apr, NO2may, NO2jun, NO2jul, NO2ago, NO2sep, NO2oct, NO2may18, NO2jun18, NO2jul18]\n",
    "NO2total = pd.concat(frames6);\n",
    "g = NO2total[864:38444].to_frame()\n",
    "g1 = g['NO2']\n",
    "\n",
    "#NOX\n",
    "frames7 = [NOXapr, NOXmay, NOXjun, NOXjul, NOXago, NOXsep, NOXoct, NOXmay18, NOXjun18, NOXjul18]\n",
    "NOXtotal = pd.concat(frames7);\n",
    "h = NOXtotal[864:38444].to_frame()\n",
    "h1 = h['NOX']\n",
    "\n",
    "\n",
    "#PM2.5\n",
    "frames9 = [PM25apr, PM25may, PM25jun, PM25jul, PM25ago, PM25sep, PM25oct, PM25may18, PM25jun18, PM25jul18]\n",
    "PM25total = pd.concat(frames9);\n",
    "vv = PM25total[864:38444].to_frame()\n",
    "vv1 = vv['PM2.5']\n",
    "\n",
    "#PM10\n",
    "frames10 = [PM10apr, PM10may, PM10jun, PM10jul, PM10ago, PM10sep, PM10oct, PM10may18, PM10jun18, PM10jul18]\n",
    "PM10total = pd.concat(frames10);\n",
    "vvv = PM10total[864:38444].to_frame()\n",
    "vvv1 = vvv['PM10']"
   ]
  },
  {
   "cell_type": "markdown",
   "metadata": {},
   "source": [
    "## Estadística"
   ]
  },
  {
   "cell_type": "code",
   "execution_count": 8,
   "metadata": {},
   "outputs": [],
   "source": [
    "#Promedio\n",
    "nucleacion.describe();\n",
    "aitken.describe();\n",
    "sumafina.describe();\n",
    "z.describe();\n",
    "y.describe();"
   ]
  },
  {
   "cell_type": "code",
   "execution_count": 9,
   "metadata": {},
   "outputs": [],
   "source": [
    "#Correleación total\n",
    "n = nucleacion['CH1']\n",
    "a = aitken['CHSUM']\n",
    "t = sumafina['SUMA']\n",
    "\n",
    "\n",
    "#Correlación Viento\n",
    "ma.corrcoef(ma.masked_invalid(n), ma.masked_invalid(x1))\n",
    "ma.corrcoef(ma.masked_invalid(a), ma.masked_invalid(x1))\n",
    "ma.corrcoef(ma.masked_invalid(t), ma.masked_invalid(x1))\n",
    "\n",
    "#Correlación Humedad Relativa\n",
    "ma.corrcoef(ma.masked_invalid(n), ma.masked_invalid(y1))\n",
    "ma.corrcoef(ma.masked_invalid(a), ma.masked_invalid(y1))\n",
    "ma.corrcoef(ma.masked_invalid(t), ma.masked_invalid(y1))\n",
    "\n",
    "#Correlación Temperatura\n",
    "ma.corrcoef(ma.masked_invalid(n), ma.masked_invalid(z1))\n",
    "ma.corrcoef(ma.masked_invalid(a), ma.masked_invalid(z1))\n",
    "ma.corrcoef(ma.masked_invalid(t), ma.masked_invalid(z1));"
   ]
  },
  {
   "cell_type": "code",
   "execution_count": 10,
   "metadata": {},
   "outputs": [],
   "source": [
    "#Correlación picos vehiculares matutinos\n",
    "\n",
    "#variable = sep30.loc['2017-09-30 10:00:00':'2017-09-30 12:00:00'] #Para seleccionar datos entre dos fechas\n",
    "\n",
    "correlacionmatutina = pd.read_csv(\"correlacionmatutina.txt\", delimiter = \"\\t\")\n",
    "\n",
    "UFPmatutina = correlacionmatutina['UFP']\n",
    "Tmatutina = correlacionmatutina['T']\n",
    "WSmatutina = correlacionmatutina['WS']\n",
    "RHmatutina = correlacionmatutina['RH']\n",
    "O3matutina = correlacionmatutina['O3']"
   ]
  },
  {
   "cell_type": "code",
   "execution_count": 11,
   "metadata": {},
   "outputs": [],
   "source": [
    "#Correlación picos vehiculares nocturnos\n",
    "correlacionnocturna= pd.read_csv(\"correlacionnocturna.txt\", delimiter = \"\\t\")\n",
    "\n",
    "UFPnocturna = correlacionnocturna['UFP']\n",
    "Tnocturna = correlacionnocturna['T']\n",
    "WSnocturna = correlacionnocturna['WS']\n",
    "RHnocturna = correlacionnocturna['RH']\n",
    "O3nocturna = correlacionnocturna['O3']"
   ]
  },
  {
   "cell_type": "code",
   "execution_count": 12,
   "metadata": {},
   "outputs": [],
   "source": [
    "#Correlación picos anómalos\n",
    "correlacionanomala= pd.read_csv(\"correlacionanomala.txt\", delimiter = \"\\t\")\n",
    "\n",
    "UFPanomala = correlacionanomala['UFP']\n",
    "Tanomala = correlacionanomala['T']\n",
    "WSanomala = correlacionanomala['WS']\n",
    "RHanomala = correlacionanomala['RH']\n",
    "O3anomala = correlacionanomala['O3']"
   ]
  },
  {
   "cell_type": "markdown",
   "metadata": {},
   "source": [
    "## Visualización"
   ]
  },
  {
   "cell_type": "code",
   "execution_count": 13,
   "metadata": {},
   "outputs": [
    {
     "data": {
      "text/plain": [
       "Text(0, 0.5, 'UFPs concentration [p/cm³]')"
      ]
     },
     "execution_count": 13,
     "metadata": {},
     "output_type": "execute_result"
    },
    {
     "data": {
      "image/png": "[encoded data removed]",
      "text/plain": [
       "<Figure size 432x288 with 1 Axes>"
      ]
     },
     "metadata": {
      "needs_background": "light"
     },
     "output_type": "display_data"
    }
   ],
   "source": [
    "#Boxplot\n",
    "figsize=(30,12)\n",
    "box=np.loadtxt('Boxplot.txt')\n",
    "df=pd.DataFrame(box, columns=['Apr', 'May', 'Jun', 'Jul', 'Aug', 'Sep']);\n",
    "boxplot = df.boxplot(column=['Apr', 'May', 'Jun', 'Jul', 'Aug', 'Sep'])\n",
    "boxplot.set_ylabel(\"UFPs concentration [p/cm³]\")"
   ]
  },
  {
   "cell_type": "code",
   "execution_count": 14,
   "metadata": {},
   "outputs": [
    {
     "data": {
      "image/png": "[encoded data removed]",
      "text/plain": [
       "<Figure size 432x288 with 1 Axes>"
      ]
     },
     "metadata": {
      "needs_background": "light"
     },
     "output_type": "display_data"
    }
   ],
   "source": [
    "figsize=(30,12)\n",
    "plt.boxplot(box, showfliers = False, labels = ['Apr', 'May', 'Jun', 'Jul', 'Aug', 'Sep'])\n",
    "plt.ylabel(\"UFPs concentration [p/cm³]\")\n",
    "plt.grid()"
   ]
  },
  {
   "cell_type": "code",
   "execution_count": 37,
   "metadata": {},
   "outputs": [
    {
     "data": {
      "text/plain": [
       "<matplotlib.legend.Legend at 0x2337006e9b0>"
      ]
     },
     "execution_count": 37,
     "metadata": {},
     "output_type": "execute_result"
    },
    {
     "data": {
      "image/png": "[encoded data removed]",
      "text/plain": [
       "<Figure size 648x288 with 1 Axes>"
      ]
     },
     "metadata": {
      "needs_background": "light"
     },
     "output_type": "display_data"
    }
   ],
   "source": [
    "x = np.arange(0, 36)\n",
    "y = [9.25, 9.42, 10.16, 11.75, 11.81, 12.4, 12.89, 10.23, 11.06, 8.56, 8.69, 8.2, 8.35, 9.09, 10.08, 14.02, 14.43, 11.72, 11.41,\n",
    "     11.76, 9.59, 8.39, 9.28, 9.07, 9.12, 10.23, 10.25, 12.34, 10.36, 14.16, 16.81, 13.6, 9.98, 8.51, 8.29, 9.23]\n",
    "\n",
    "xmax = [6, 16, 30]\n",
    "ymax = [12.89, 14.43,16.81]\n",
    "\n",
    "STDV=np.std(y)\n",
    "\n",
    "plt.figure(figsize = (9,4))\n",
    "plt.plot(x, y,color = 'black') #,yerr = STDV, fmt='-o', color = 'black')\n",
    "plt.xlabel(\"Month\")\n",
    "plt.ylabel(\"PM$_{2.5}$ concentration (μg/m³)\")\n",
    "plt.xticks([0, 3, 6, 9, 12, 15, 18, 21, 24, 27, 30, 33],\n",
    "['2016-01', '2016-04','2016-07','2016-10','2017-01','2017-04', '2017-07','2017-10', '2018-01', '2018-04', '2018-07', '2018-10']\n",
    ",rotation=70);\n",
    "plt.fill_between(x, y-STDV, y+STDV)\n",
    "\n",
    "z = np.polyfit(x,y, 1)\n",
    "p = np.poly1d(z)\n",
    "plt.plot(x,p(x),\"k--\", label='mensual average trend')\n",
    "\n",
    "zmax = np.polyfit(xmax,ymax, 1)\n",
    "p2 = np.poly1d(zmax)\n",
    "plt.plot(xmax,p2(xmax), linestyle='dashdot', color = \"k\", label='annual average trend')\n",
    "plt.legend(loc=2)"
   ]
  },
  {
   "cell_type": "code",
   "execution_count": 46,
   "metadata": {},
   "outputs": [],
   "source": [
    "slope, intercept, r_value, p_value, std_err = stats.linregress(xmax, ymax)"
   ]
  },
  {
   "cell_type": "code",
   "execution_count": 47,
   "metadata": {},
   "outputs": [
    {
     "data": {
      "text/plain": [
       "0.9992623668802733"
      ]
     },
     "execution_count": 47,
     "metadata": {},
     "output_type": "execute_result"
    }
   ],
   "source": [
    "r_value**2"
   ]
  },
  {
   "cell_type": "code",
   "execution_count": null,
   "metadata": {},
   "outputs": [],
   "source": [
    "np.mean(y)"
   ]
  },
  {
   "cell_type": "code",
   "execution_count": null,
   "metadata": {},
   "outputs": [],
   "source": [
    "np.std(y)"
   ]
  },
  {
   "cell_type": "code",
   "execution_count": 8,
   "metadata": {},
   "outputs": [
    {
     "data": {
      "text/plain": [
       "<matplotlib.legend.Legend at 0x21120a6b4e0>"
      ]
     },
     "execution_count": 8,
     "metadata": {},
     "output_type": "execute_result"
    },
    {
     "data": {
      "image/png": "[encoded data removed]",
      "text/plain": [
       "<Figure size 648x288 with 4 Axes>"
      ]
     },
     "metadata": {
      "needs_background": "light"
     },
     "output_type": "display_data"
    }
   ],
   "source": [
    "#Promedio horario\n",
    "\n",
    "nucleacionpromedio = nucleacion.groupby(nucleacion.index.hour).mean()\n",
    "aitkenpromedio = aitken.groupby(aitken.index.hour).mean()\n",
    "sumafinapromedio = sumafina.groupby(sumafina.index.hour).mean()\n",
    "ozonopromedio = w.groupby(w.index.hour).mean()\n",
    "\n",
    "NOXpromedio = (0.65620915, 0.511437908, 0.425816993, 0.467647059, 0.443464052, 0.713071895, 2.526470588, 5.705228758, \n",
    "               4.465359477, 2.467973856, 2.631045752, 2.665359477, 2.053921569, 1.564052288, 1.633333333, 1.614379085,\n",
    "               1.047712418, 0.922875817, 1.414052288, 2.233660131, 2.666339869, 2.369281046, 1.684313725, 1.030392157)\n",
    "\n",
    "COpromedio = (0.315, 0.285, 0.275, 0.32, 0.325, 0.36, 0.465, 0.46, 0.345, 0.325, 0.285, 0.29, 0.285, 0.295, 0.31, 0.305,\n",
    "              0.285, 0.305, 0.355, 0.37, 0.395, 0.39, 0.37, 0.34)\n",
    "\n",
    "\n",
    "fig, ax1 = plt.subplots(figsize=(9,4))\n",
    "\n",
    "ax1.set_xlabel('Hour')\n",
    "ax1.set_ylabel('Particle concentration (p/cm³)')\n",
    "\n",
    "lns1 = ax1.plot(nucleacionpromedio, color = \"red\", label = \"Nucleation mode\")\n",
    "lns2 = ax1.plot(aitkenpromedio, color = \"blue\", label = \"Aitken mode\")\n",
    "lns3 = ax1.plot(sumafinapromedio, color = \"black\", label = \"Ultrafine mode\")\n",
    "\n",
    "ax2 = ax1.twinx() \n",
    "ax2.set_ylabel('O$_3$ concentration (ppb)')\n",
    "\n",
    "ax3 = ax1.twinx() \n",
    "ax3.set_ylabel('NO$_x$ concentration (ppb)')\n",
    "ax3.spines[\"right\"].set_position((\"axes\", 1.1))\n",
    "\n",
    "ax4 = ax1.twinx() \n",
    "ax4.set_ylabel('CO concentration (ppm)')\n",
    "ax4.spines[\"right\"].set_position((\"axes\", 1.2))\n",
    "\n",
    "lns4 = ax2.plot(ozonopromedio, color = \"black\", linestyle = '--', label = 'O$_3$');\n",
    "lns5 = ax3.plot(NOXpromedio, color = \"orange\", label = 'NO$_x$');\n",
    "lns6 = ax4.plot(COpromedio, color = \"yellow\", label = 'CO');\n",
    "\n",
    "lns = lns1+lns2+lns3+lns4+lns5+lns6\n",
    "labs = [l.get_label() for l in lns]\n",
    "ax1.legend(lns, labs, loc=0)"
   ]
  },
  {
   "cell_type": "code",
   "execution_count": 24,
   "metadata": {},
   "outputs": [
    {
     "data": {
      "text/plain": [
       "<matplotlib.collections.PolyCollection at 0x17562d54a58>"
      ]
     },
     "execution_count": 24,
     "metadata": {},
     "output_type": "execute_result"
    },
    {
     "data": {
      "image/png": "[encoded data removed]",
      "text/plain": [
       "<Figure size 648x288 with 1 Axes>"
      ]
     },
     "metadata": {
      "needs_background": "light"
     },
     "output_type": "display_data"
    }
   ],
   "source": [
    "#Promedio horario en masa\n",
    "pm10promedio = vvv.groupby(vvv.index.hour).mean()\n",
    "\n",
    "pm10promedio = (21.140899, 20.613555, 20.983252, 21.281961, 21.665347, 22.736699, 24.891783, 24.129797, 24.511998, 21.965533, 21.817742, \n",
    " 22.281667, 22.672795, 22.532478, 23.413924, 24.779249, 25.726555, 24.151417, 24.699033, 24.415131, 23.027220, 21.471924,\n",
    " 20.510414, 20.907958)\n",
    "\n",
    "STDVPM10 = np.std(pm10promedio)\n",
    "\n",
    "pm25promedio = vv.groupby(vv.index.hour).mean()\n",
    "pm25promedio = (11.073472, 10.997840, 10.797943, 11.194332, 11.011422, 11.189301, 11.024163, 11.055234, 11.781693, 11.819840, 14.241845,\n",
    " 13.055895, 12.701783, 12.558264, 13.236107, 13.132634, 13.179951, 12.747778, 12.537515, 11.579055, 11.592483, 10.875242,\n",
    " 10.632417, 10.902723)\n",
    "\n",
    "STDVPM25=np.std(pm25promedio)\n",
    "\n",
    "masaaitkenpromedio = masaaitken.groupby(masaaitken.index.hour).mean()\n",
    "masaaitkenpromedio = (4.564560, 4.119632, 4.052617, 4.027752, 4.021089, 4.640765, 7.478741, 10.472898, 10.559958, 8.815540, 6.986183, 5.646517,\n",
    " 5.061625, 4.846851, 4.810990, 4.516054, 4.957004, 5.324400, 5.763262, 6.559583, 7.197361, 6.841442, 6.115429, 5.130257)\n",
    "\n",
    "STDVmasaaitken = np.std(masaaitkenpromedio)\n",
    "\n",
    "x = np.arange(0, 24)\n",
    "\n",
    "fig, ax1 = plt.subplots(figsize=(9,4))\n",
    "\n",
    "ax1.set_xlabel('Hour')\n",
    "ax1.set_ylabel('Mass concentration (μg/m³)')\n",
    "\n",
    "lns1 = ax1.plot(x, pm10promedio, color = \"black\", label = \"PM$_{10}$\")\n",
    "lns2 = ax1.plot(x, pm25promedio, color = \"black\", linestyle = '--', label = \"PM$_{2.5}$\")\n",
    "lns3 = ax1.plot(x, masaaitkenpromedio, color = \"black\", linestyle = 'dashdot', label = 'PM$_{UFP}$');\n",
    "\n",
    "lns = lns1+lns2+lns3\n",
    "labs = [l.get_label() for l in lns]\n",
    "ax1.legend(lns, labs, loc=1)\n",
    "\n",
    "plt.fill_between(x, pm10promedio-STDVPM10, pm10promedio+STDVPM10)\n",
    "\n",
    "plt.fill_between(x, pm25promedio-STDVPM25, pm25promedio+STDVPM25)\n",
    "\n",
    "plt.fill_between(x, masaaitkenpromedio-STDVmasaaitken, masaaitkenpromedio+STDVmasaaitken)"
   ]
  },
  {
   "cell_type": "code",
   "execution_count": 25,
   "metadata": {},
   "outputs": [
    {
     "data": {
      "text/plain": [
       "masked_array(\n",
       "  data=[[1.0, -0.05699877754628797],\n",
       "        [-0.05699877754628797, 1.0]],\n",
       "  mask=[[False, False],\n",
       "        [False, False]],\n",
       "  fill_value=1e+20)"
      ]
     },
     "execution_count": 25,
     "metadata": {},
     "output_type": "execute_result"
    }
   ],
   "source": [
    "ma.corrcoef(ma.masked_invalid(masaaitkenpromedio), ma.masked_invalid(pm10promedio))\n",
    "ma.corrcoef(ma.masked_invalid(masaaitkenpromedio), ma.masked_invalid(pm25promedio))"
   ]
  },
  {
   "cell_type": "code",
   "execution_count": 26,
   "metadata": {},
   "outputs": [
    {
     "data": {
      "text/html": [
       "<div>\n",
       "<style scoped>\n",
       "    .dataframe tbody tr th:only-of-type {\n",
       "        vertical-align: middle;\n",
       "    }\n",
       "\n",
       "    .dataframe tbody tr th {\n",
       "        vertical-align: top;\n",
       "    }\n",
       "\n",
       "    .dataframe thead th {\n",
       "        text-align: right;\n",
       "    }\n",
       "</style>\n",
       "<table border=\"1\" class=\"dataframe\">\n",
       "  <thead>\n",
       "    <tr style=\"text-align: right;\">\n",
       "      <th></th>\n",
       "      <th>PM2.5</th>\n",
       "    </tr>\n",
       "  </thead>\n",
       "  <tbody>\n",
       "    <tr>\n",
       "      <th>count</th>\n",
       "      <td>24.000000</td>\n",
       "    </tr>\n",
       "    <tr>\n",
       "      <th>mean</th>\n",
       "      <td>11.871622</td>\n",
       "    </tr>\n",
       "    <tr>\n",
       "      <th>std</th>\n",
       "      <td>1.017233</td>\n",
       "    </tr>\n",
       "    <tr>\n",
       "      <th>min</th>\n",
       "      <td>10.632417</td>\n",
       "    </tr>\n",
       "    <tr>\n",
       "      <th>25%</th>\n",
       "      <td>11.020978</td>\n",
       "    </tr>\n",
       "    <tr>\n",
       "      <th>50%</th>\n",
       "      <td>11.585769</td>\n",
       "    </tr>\n",
       "    <tr>\n",
       "      <th>75%</th>\n",
       "      <td>12.713282</td>\n",
       "    </tr>\n",
       "    <tr>\n",
       "      <th>max</th>\n",
       "      <td>14.241845</td>\n",
       "    </tr>\n",
       "  </tbody>\n",
       "</table>\n",
       "</div>"
      ],
      "text/plain": [
       "           PM2.5\n",
       "count  24.000000\n",
       "mean   11.871622\n",
       "std     1.017233\n",
       "min    10.632417\n",
       "25%    11.020978\n",
       "50%    11.585769\n",
       "75%    12.713282\n",
       "max    14.241845"
      ]
     },
     "execution_count": 26,
     "metadata": {},
     "output_type": "execute_result"
    }
   ],
   "source": [
    "pm25promedio = vv.groupby(vv.index.hour).mean()\n",
    "pm25promedio.describe()"
   ]
  },
  {
   "cell_type": "markdown",
   "metadata": {},
   "source": [
    "## Growth rate Apr 22, 2017"
   ]
  },
  {
   "cell_type": "markdown",
   "metadata": {},
   "source": [
    "### Geometric mean diameter T1"
   ]
  },
  {
   "cell_type": "code",
   "execution_count": 40,
   "metadata": {},
   "outputs": [],
   "source": [
    "sumaunot1 = (np.log(10) * 2568) + (np.log(50) * 1438)"
   ]
  },
  {
   "cell_type": "code",
   "execution_count": 41,
   "metadata": {},
   "outputs": [],
   "source": [
    "sumadost1 = 2568 + 1438"
   ]
  },
  {
   "cell_type": "code",
   "execution_count": 42,
   "metadata": {},
   "outputs": [],
   "source": [
    "GMD1 = np.exp(sumaunot1/sumadost1)"
   ]
  },
  {
   "cell_type": "markdown",
   "metadata": {},
   "source": [
    "### Geometric mean diameter T2"
   ]
  },
  {
   "cell_type": "code",
   "execution_count": 43,
   "metadata": {},
   "outputs": [],
   "source": [
    "sumaunot2 = (np.log(10) * 2634) + (np.log(50) * 3829)"
   ]
  },
  {
   "cell_type": "code",
   "execution_count": 44,
   "metadata": {},
   "outputs": [],
   "source": [
    "sumadost2 = 2634 + 3829"
   ]
  },
  {
   "cell_type": "code",
   "execution_count": 45,
   "metadata": {},
   "outputs": [],
   "source": [
    "GMD2 = np.exp(sumaunot2/sumadost2)"
   ]
  },
  {
   "cell_type": "markdown",
   "metadata": {},
   "source": [
    "### Growth rate"
   ]
  },
  {
   "cell_type": "code",
   "execution_count": 50,
   "metadata": {},
   "outputs": [
    {
     "data": {
      "text/plain": [
       "2.0320507648807338"
      ]
     },
     "execution_count": 50,
     "metadata": {},
     "output_type": "execute_result"
    }
   ],
   "source": [
    "(GMD2 - GMD1) / 4"
   ]
  },
  {
   "cell_type": "code",
   "execution_count": 47,
   "metadata": {},
   "outputs": [
    {
     "data": {
      "text/plain": [
       "17.819821996221666"
      ]
     },
     "execution_count": 47,
     "metadata": {},
     "output_type": "execute_result"
    }
   ],
   "source": [
    "GMD1"
   ]
  },
  {
   "cell_type": "code",
   "execution_count": 48,
   "metadata": {},
   "outputs": [
    {
     "data": {
      "text/plain": [
       "25.9480250557446"
      ]
     },
     "execution_count": 48,
     "metadata": {},
     "output_type": "execute_result"
    }
   ],
   "source": [
    "GMD2"
   ]
  },
  {
   "cell_type": "markdown",
   "metadata": {},
   "source": [
    "## Growth rate May 16, 2018"
   ]
  },
  {
   "cell_type": "markdown",
   "metadata": {},
   "source": [
    "### Geometric mean diameter T1"
   ]
  },
  {
   "cell_type": "code",
   "execution_count": 81,
   "metadata": {},
   "outputs": [],
   "source": [
    "sumaunot1 = (np.log(10) * 4951) + (np.log(50) * 1947)"
   ]
  },
  {
   "cell_type": "code",
   "execution_count": 82,
   "metadata": {},
   "outputs": [],
   "source": [
    "sumadost1 = 4951 + 1947"
   ]
  },
  {
   "cell_type": "code",
   "execution_count": 83,
   "metadata": {},
   "outputs": [],
   "source": [
    "GMD1 = np.exp(sumaunot1/sumadost1)"
   ]
  },
  {
   "cell_type": "markdown",
   "metadata": {},
   "source": [
    "### Geometric mean diameter T2"
   ]
  },
  {
   "cell_type": "code",
   "execution_count": 84,
   "metadata": {},
   "outputs": [],
   "source": [
    "sumaunot2 = (np.log(10) * 2403) + (np.log(50) * 4500)"
   ]
  },
  {
   "cell_type": "code",
   "execution_count": 86,
   "metadata": {},
   "outputs": [],
   "source": [
    "sumadost2 = 2403 + 4500"
   ]
  },
  {
   "cell_type": "code",
   "execution_count": 91,
   "metadata": {},
   "outputs": [],
   "source": [
    "GMD2 = np.exp(sumaunot2/sumadost2)"
   ]
  },
  {
   "cell_type": "markdown",
   "metadata": {},
   "source": [
    "### Growth rate"
   ]
  },
  {
   "cell_type": "code",
   "execution_count": 92,
   "metadata": {},
   "outputs": [
    {
     "data": {
      "text/plain": [
       "4.26757648700876"
      ]
     },
     "execution_count": 92,
     "metadata": {},
     "output_type": "execute_result"
    }
   ],
   "source": [
    "(GMD2 - GMD1) / 3"
   ]
  },
  {
   "cell_type": "code",
   "execution_count": 93,
   "metadata": {},
   "outputs": [
    {
     "data": {
      "text/plain": [
       "15.750280267871819"
      ]
     },
     "execution_count": 93,
     "metadata": {},
     "output_type": "execute_result"
    }
   ],
   "source": [
    "GMD1"
   ]
  },
  {
   "cell_type": "code",
   "execution_count": 94,
   "metadata": {},
   "outputs": [
    {
     "data": {
      "text/plain": [
       "28.553009728898097"
      ]
     },
     "execution_count": 94,
     "metadata": {},
     "output_type": "execute_result"
    }
   ],
   "source": [
    "GMD2"
   ]
  },
  {
   "cell_type": "markdown",
   "metadata": {},
   "source": [
    "## Growth rate May 28, 2018"
   ]
  },
  {
   "cell_type": "markdown",
   "metadata": {},
   "source": [
    "### Geometric mean diameter T1"
   ]
  },
  {
   "cell_type": "code",
   "execution_count": 95,
   "metadata": {},
   "outputs": [],
   "source": [
    "sumaunot1 = (np.log(10) * 4511) + (np.log(50) * 2748)"
   ]
  },
  {
   "cell_type": "code",
   "execution_count": 96,
   "metadata": {},
   "outputs": [],
   "source": [
    "sumadost1 = 4511 + 2748"
   ]
  },
  {
   "cell_type": "code",
   "execution_count": 97,
   "metadata": {},
   "outputs": [],
   "source": [
    "GMD1 = np.exp(sumaunot1/sumadost1)"
   ]
  },
  {
   "cell_type": "markdown",
   "metadata": {},
   "source": [
    "### Geometric mean diameter T2\n"
   ]
  },
  {
   "cell_type": "code",
   "execution_count": 98,
   "metadata": {},
   "outputs": [],
   "source": [
    "sumaunot2 = (np.log(10) * 4408) + (np.log(50) * 5185)"
   ]
  },
  {
   "cell_type": "code",
   "execution_count": 99,
   "metadata": {},
   "outputs": [],
   "source": [
    "sumadost2 = 4408 + 5185"
   ]
  },
  {
   "cell_type": "code",
   "execution_count": 100,
   "metadata": {},
   "outputs": [],
   "source": [
    "GMD2 = np.exp(sumaunot2/sumadost2)"
   ]
  },
  {
   "cell_type": "markdown",
   "metadata": {},
   "source": [
    "### Growth rate"
   ]
  },
  {
   "cell_type": "code",
   "execution_count": 101,
   "metadata": {},
   "outputs": [
    {
     "data": {
      "text/plain": [
       "5.475687750754144"
      ]
     },
     "execution_count": 101,
     "metadata": {},
     "output_type": "execute_result"
    }
   ],
   "source": [
    "(GMD2 - GMD1) / 1"
   ]
  }
 ],
 "metadata": {
  "kernelspec": {
   "display_name": "Python 3",
   "language": "python",
   "name": "python3"
  },
  "language_info": {
   "codemirror_mode": {
    "name": "ipython",
    "version": 3
   },
   "file_extension": ".py",
   "mimetype": "text/x-python",
   "name": "python",
   "nbconvert_exporter": "python",
   "pygments_lexer": "ipython3",
   "version": "3.7.3"
  }
 },
 "nbformat": 4,
 "nbformat_minor": 2
}
